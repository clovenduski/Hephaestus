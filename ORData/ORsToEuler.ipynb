{
 "cells": [
  {
   "cell_type": "code",
   "execution_count": 2,
   "id": "b42e351c",
   "metadata": {},
   "outputs": [],
   "source": [
    "import numpy as np\n",
    "import math\n",
    "import itertools\n",
    "import pprint"
   ]
  },
  {
   "cell_type": "markdown",
   "id": "968577a6",
   "metadata": {},
   "source": [
    "# Generation of Rotation Matrix from Orientation Relationship\n",
    "\n",
    "Orientation relationships (ORs) are typically given in the form of one set of crystallographic direction vectors and one set of crystallographic planes. A second set of direction vectors may be given, however, these second direction vectors may always be recovered by find the direction vectors normal to the other two vector sets. "
   ]
  },
  {
   "cell_type": "markdown",
   "id": "41c63cf3",
   "metadata": {},
   "source": [
    "To convert the ORs to rotation matricies, must convert each crystallographic orientation (as defined by the OR) to an orientation matrix. Therefore, for each phase in the OR, we have the vectors:\n",
    "\n",
    "$$\n",
    "\\begin{align}\n",
    "\\vec{n} = \\frac{(h,k,l)}{|hkl|}\n",
    "\\end{align}\n",
    "$$\n",
    "\n",
    "$$\n",
    "\\begin{align}\n",
    "\\vec{b} = \\frac{(u,v,w)}{|uvw|}\n",
    "\\end{align}\n",
    "$$\n",
    "\n",
    "$$\n",
    "\\begin{align}\n",
    "\\vec{t} = \\frac{\\hat{n}\\times\\hat{b}}{|\\hat{n}\\times\\hat{b}|}\n",
    "\\end{align}\n",
    "$$\n",
    "\n",
    "And the orientation matrix:\n",
    "\n",
    "$$\n",
    "\\begin{align}\n",
    "g_{i} =\n",
    "\\begin{bmatrix}\n",
    "b_1 & t_1 & n_1 \\\\\n",
    "b_2 & t_2 & n_2 \\\\\n",
    "b_3 & t_3 & n_3\n",
    "\\end{bmatrix}\n",
    "\\end{align}\n",
    "$$\n",
    "\n",
    "The final rotation matrix between the two phases is calculated as:\n",
    "\n",
    "$$\n",
    "\\begin{align}\n",
    "g = g_c g_p^{-1}\n",
    "\\end{align}\n",
    "$$\n",
    "\n",
    "where $c,p$ denote child and parent phases"
   ]
  },
  {
   "cell_type": "code",
   "execution_count": 3,
   "id": "5610a9c6",
   "metadata": {},
   "outputs": [],
   "source": [
    "def or2rotm(orc1, orc3):\n",
    "    # Finding the orientation matrix of the parent phase\n",
    "    n_p = orc3[0,:]/np.linalg.norm(orc3[0,:]) # Must be the planar constraint\n",
    "    b_p = orc1[0,:]/np.linalg.norm(orc1[0,:]) # Must be a directional constraint\n",
    "    t_p = np.cross(n_p, b_p)/np.linalg.norm(np.cross(n_p, b_p))\n",
    "\n",
    "    g_p = np.array([[b_p[0], t_p[0], n_p[0]],[b_p[1], t_p[1], n_p[1]],[b_p[2], t_p[2], n_p[2]]])\n",
    "\n",
    "\n",
    "    # Finding the orientaiton matrix of the child phase\n",
    "    n_c = orc3[1,:]/np.linalg.norm(orc3[1,:]) # Must be the planar constraint\n",
    "    b_c = orc1[1,:]/np.linalg.norm(orc1[1,:]) # Must be a directional constraint\n",
    "    t_c = np.cross(n_c, b_c)/np.linalg.norm(np.cross(n_c, b_c))\n",
    "\n",
    "    g_c = np.array([[b_c[0], t_c[0], n_c[0]],[b_c[1], t_c[1], n_c[1]],[b_c[2], t_c[2], n_c[2]]])\n",
    "\n",
    "\n",
    "    # Calculating the misorientation matrix between the two phases\n",
    "    g = np.dot(g_c, g_p.T)\n",
    "    \n",
    "    return g"
   ]
  },
  {
   "cell_type": "markdown",
   "id": "aa4ba4d7",
   "metadata": {},
   "source": [
    "Furthermore, we can convert this rotation matrix into a set of Euler angles. Note that this capability is included in some MATLAB packages (which cost more money), however, they do not include the capability of converting to Euler angles using the ZX'Z' convention which is used by MOOSE. The equations necessary to do this conversion in the ZX'Z' convention can be found at https://en.wikipedia.org/wiki/Euler_angles#Rotation_matrix:\n",
    "\n",
    "$$\n",
    "\\begin{align}\n",
    "\\phi_1 = \\arctan{\\bigg( \\frac{g_{13}}{-g_{23}} \\bigg)}\n",
    "\\end{align}\n",
    "$$\n",
    "\n",
    "$$\n",
    "\\begin{align}\n",
    "\\Psi = \\arctan{\\bigg( \\frac{\\sqrt{1-g_{33}^2}}{g_{33}} \\bigg)}\n",
    "\\end{align}\n",
    "$$\n",
    "\n",
    "$$\n",
    "\\begin{align}\n",
    "\\phi_2 = \\arctan{\\bigg( \\frac{g_{31}}{g_{32}} \\bigg)}\n",
    "\\end{align}\n",
    "$$"
   ]
  },
  {
   "cell_type": "code",
   "execution_count": 4,
   "id": "a685bd6b",
   "metadata": {},
   "outputs": [],
   "source": [
    "def rotm2eul(notation, rotm):\n",
    "    if notation == 'ZXZ':\n",
    "        phi1 = math.atan(rotm[0,2]/-rotm[1,2])\n",
    "        PHI  = math.atan((math.sqrt(1.0-(rotm[2,2]**2)))/(rotm[2,2]))\n",
    "        phi2 = math.atan(rotm[2,0]/rotm[2,1])\n",
    "        eulerAngles = np.degrees(np.array([phi1, PHI, phi2]))\n",
    "        return eulerAngles\n",
    "    else:\n",
    "        raise RuntimeError('Not a valid Euler angle notation')"
   ]
  },
  {
   "cell_type": "markdown",
   "id": "b91bc7e8",
   "metadata": {},
   "source": [
    "# Ferrite & Martensite in Austenite"
   ]
  },
  {
   "cell_type": "markdown",
   "id": "9d20f344",
   "metadata": {},
   "source": [
    "## Nishiyama-Wassermann Variants\n",
    "\n",
    "The Nishiyama-Wassermann ORs are a set of 12 ORs which had been observed in the fcc-austenite to bcc-ferrite (or bct phase caused by tetragonalization due to high carbon content) phase transformation. "
   ]
  },
  {
   "cell_type": "code",
   "execution_count": 7,
   "id": "8c2c8ff5",
   "metadata": {},
   "outputs": [],
   "source": [
    "#                      directional                planar\n",
    "#                     AUS       FER           AUS       FER\n",
    "\n",
    "NWors = np.array([[[[1,0,-1], [1,0,0]],    [[1,1,1], [0,1,1]]], #NW01\n",
    "                  [[[-1,1,0], [1,0,0]],    [[1,1,1], [0,1,1]]], #NW02\n",
    "                  [[[0,-1,1], [1,0,0]],    [[1,1,1], [0,1,1]]], #NW03\n",
    "                  [[[1,0,1],  [1,0,0]],    [[-1,1,1],[0,1,1]]], #NW04\n",
    "                  [[[-1,-1,0],[1,0,0]],    [[-1,1,1],[0,1,1]]], #NW05\n",
    "                  [[[0,1,-1], [1,0,0]],    [[-1,1,1],[0,1,1]]], #NW06\n",
    "                  [[[-1,0,1], [1,0,0]],    [[1,-1,1],[0,1,1]]], #NW07\n",
    "                  [[[1,1,0],  [1,0,0]],    [[1,-1,1],[0,1,1]]], #NW08\n",
    "                  [[[0,-1,-1],[1,0,0]],    [[1,-1,1],[0,1,1]]], #NW09\n",
    "                  [[[-1,0,-1],[1,0,0]],    [[1,1,-1],[0,1,1]]], #NW10\n",
    "                  [[[1,-1,0], [1,0,0]],    [[1,1,-1],[0,1,1]]], #NW11\n",
    "                  [[[0,1,1],  [1,0,0]],    [[1,1,-1],[0,1,1]]], #NW12\n",
    "                 ])"
   ]
  },
  {
   "cell_type": "code",
   "execution_count": 8,
   "id": "f4dd99e5",
   "metadata": {},
   "outputs": [
    {
     "name": "stdout",
     "output_type": "stream",
     "text": [
      "[ 80.4019697   45.81931182 -76.36129272]\n",
      "[ -0.         -80.26438968  45.        ]\n",
      "[-80.4019697   45.81931182 -13.63870728]\n"
     ]
    }
   ],
   "source": [
    "printnum = 3\n",
    "\n",
    "for i in range(0,printnum):\n",
    "    rotm = or2rotm(NWors[i,0], NWors[i,1])\n",
    "    eul = rotm2eul('ZXZ', rotm)\n",
    "    print(eul)"
   ]
  },
  {
   "cell_type": "markdown",
   "id": "c6681134",
   "metadata": {},
   "source": [
    "## Kurdjumov-Sachs Variants\n",
    "\n",
    "The Kurdjumov-Sachs (KS) varients are a series of ORs published in response to the Nishiyama-Wassermann ORs. It contains a set of 24 ORs which had been observed in the fcc-austenite to bcc-ferrite (or bct phase caused by tetragonalization due to high carbon content) phase transformation. "
   ]
  },
  {
   "cell_type": "code",
   "execution_count": 5,
   "id": "57ecdbca",
   "metadata": {},
   "outputs": [],
   "source": [
    "#                      directional                planar\n",
    "#                     AUS       FER           AUS       FER\n",
    "\n",
    "KSors = np.array([[[[1,0,-1], [1,1,-1]],    [[1,1,1], [0,1,1]]], #KS01\n",
    "                  [[[1,0,-1], [-1,1,-1]],   [[1,1,1], [0,1,1]]], #KS02\n",
    "                  [[[-1,1,0], [1,1,-1]],    [[1,1,1], [0,1,1]]], #KS03\n",
    "                  [[[-1,1,0], [-1,1,-1]],   [[1,1,1], [0,1,1]]], #KS04\n",
    "                  [[[0,-1,1], [1,1,-1]],    [[1,1,1], [0,1,1]]], #KS05\n",
    "                  [[[0,-1,1], [-1,1,-1]],   [[1,1,1], [0,1,1]]], #KS06\n",
    "                  [[[1,0,1],  [1,1,-1]],    [[-1,1,1],[0,1,1]]], #KS07\n",
    "                  [[[1,0,1],  [-1,1,-1]],   [[-1,1,1],[0,1,1]]], #KS08\n",
    "                  [[[-1,-1,0],[1,1,-1]],    [[-1,1,1],[0,1,1]]], #KS09\n",
    "                  [[[-1,-1,0],[-1,1,-1]],   [[-1,1,1],[0,1,1]]], #KS10\n",
    "                  [[[0,1,-1], [1,1,-1]],    [[-1,1,1],[0,1,1]]], #KS11\n",
    "                  [[[0,1,-1], [-1,1,-1]],   [[-1,1,1],[0,1,1]]], #KS12\n",
    "                  [[[-1,0,1], [1,1,-1]],    [[1,-1,1],[0,1,1]]], #KS13\n",
    "                  [[[-1,0,1], [-1,1,-1]],   [[1,-1,1],[0,1,1]]], #KS14\n",
    "                  [[[1,1,0],  [1,1,-1]],    [[1,-1,1],[0,1,1]]], #KS15\n",
    "                  [[[1,1,0],  [-1,1,-1]],   [[1,-1,1],[0,1,1]]], #KS16\n",
    "                  [[[0,-1,-1],[1,1,-1]],    [[1,-1,1],[0,1,1]]], #KS17\n",
    "                  [[[0,-1,-1],[-1,1,-1]],   [[1,-1,1],[0,1,1]]], #KS18\n",
    "                  [[[-1,0,-1],[1,1,-1]],    [[1,1,-1],[0,1,1]]], #KS19\n",
    "                  [[[-1,0,-1],[-1,1,-1]],   [[1,1,-1],[0,1,1]]], #KS20\n",
    "                  [[[1,-1,0], [1,1,-1]],    [[1,1,-1],[0,1,1]]], #KS21\n",
    "                  [[[1,-1,0], [-1,1,-1]],   [[1,1,-1],[0,1,1]]], #KS22\n",
    "                  [[[0,1,1],  [1,1,-1]],    [[1,1,-1],[0,1,1]]], #KS23\n",
    "                  [[[0,1,1],  [-1,1,-1]],   [[1,1,-1],[0,1,1]]], #KS24\n",
    "                 ])"
   ]
  },
  {
   "cell_type": "code",
   "execution_count": 6,
   "id": "26f1851b",
   "metadata": {},
   "outputs": [
    {
     "name": "stdout",
     "output_type": "stream",
     "text": [
      "[-24.20342834  10.52877937  65.79657166]\n",
      "[-77.33353069  49.47122063 -12.66646931]\n",
      "[41.95489158 85.70366404 80.37863911]\n",
      "[ 83.58843092  42.13367951 -75.61499742]\n",
      "[-48.77270548  80.40593177   4.35739688]\n",
      "[  4.35739688 -80.40593177  48.77270548]\n"
     ]
    }
   ],
   "source": [
    "printnum = 6\n",
    "\n",
    "for i in range(0,printnum):\n",
    "    rotm = or2rotm(KSors[i,0], KSors[i,1])\n",
    "    eul = rotm2eul('ZXZ', rotm)\n",
    "    print(eul)"
   ]
  },
  {
   "cell_type": "markdown",
   "id": "8e73dcb0",
   "metadata": {},
   "source": [
    "# Cementite in Austenite"
   ]
  },
  {
   "cell_type": "markdown",
   "id": "376d2278",
   "metadata": {},
   "source": [
    "## Thompson-Howell Orientation Relationship\n",
    "\n",
    "The Thompson-Howell OR is a single OR which had been observed in the fcc-austenite to orthorhombic cementite intermetallic phase transformation. "
   ]
  },
  {
   "cell_type": "code",
   "execution_count": 10,
   "id": "27bb7487",
   "metadata": {},
   "outputs": [],
   "source": [
    "#                      directional                planar\n",
    "#                     AUS       CEM           AUS       CEM\n",
    "\n",
    "THor = np.array([[[-1,2,-1], [3,0,-1]],    [[1,1,1], [-1,0,3]]])"
   ]
  },
  {
   "cell_type": "code",
   "execution_count": 11,
   "id": "ad421952",
   "metadata": {},
   "outputs": [
    {
     "name": "stdout",
     "output_type": "stream",
     "text": [
      "[38.86608588 47.40420053 66.8402483 ]\n"
     ]
    }
   ],
   "source": [
    "rotm = or2rotm(THor[0], THor[1])\n",
    "eul = rotm2eul('ZXZ', rotm)\n",
    "print(eul)"
   ]
  },
  {
   "cell_type": "markdown",
   "id": "524472ad",
   "metadata": {},
   "source": [
    "# Pearlite Homogenization"
   ]
  },
  {
   "cell_type": "markdown",
   "id": "91195155",
   "metadata": {},
   "source": [
    "## The Bagaryatskii Orientation Relationship\n",
    "\n",
    "The Bagaryatski OR is perhaps the most cited OR for cementite and ferrite in a lamellar pearlite structure. It is given by:\n",
    "\n",
    "$$\n",
    "\\begin{align}\n",
    "[100]_\\theta \\;||\\; [1 \\bar{1} 0]_\\alpha\n",
    "\\end{align}\n",
    "$$\n",
    "\n",
    "$$\n",
    "\\begin{align}\n",
    "[010]_\\theta \\;||\\; [111]_\\alpha\n",
    "\\end{align}\n",
    "$$\n",
    "\n",
    "$$\n",
    "\\begin{align}\n",
    "(001)_\\theta \\;||\\; (\\bar{1} \\bar{1} 2)_\\alpha\n",
    "\\end{align}\n",
    "$$\n",
    "\n",
    "We will make the decision that the cementite phase is the parent phase, thus the rotation matrix will represent the rotation of the ferrite phase in relation to the cementite phase. Entering this into numpy arrays:"
   ]
  },
  {
   "cell_type": "code",
   "execution_count": 104,
   "id": "0dd1685c",
   "metadata": {},
   "outputs": [],
   "source": [
    "orc1 = np.array([[1, 0, 0],[1, -1, 0]])\n",
    "orc2 = np.array([[0, 1, 0],[1, 1, 1]]) # Optional\n",
    "orc3 = np.array([[0, 0, 1],[-1, -1, 2]]) # This is the planar OR condition"
   ]
  },
  {
   "cell_type": "markdown",
   "id": "7dcd59ea",
   "metadata": {},
   "source": [
    "We can then perform the conversion of this orientation relationship into a rotation matrix, along with a set of Euler angles in the ZX'Z' convention by calling our two functions"
   ]
  },
  {
   "cell_type": "code",
   "execution_count": 78,
   "id": "1286e1fa",
   "metadata": {},
   "outputs": [
    {
     "name": "stdout",
     "output_type": "stream",
     "text": [
      "The rotation matrix for the Bagaryatskii OR is:\n",
      "[[ 0.70710678  0.57735027 -0.40824829]\n",
      " [-0.70710678  0.57735027 -0.40824829]\n",
      " [ 0.          0.57735027  0.81649658]]\n",
      "\n",
      "The Euler angles (in degrees) for the Bagaryatskii OR is:\n",
      "[-45.          35.26438968   0.        ]\n",
      "\n"
     ]
    }
   ],
   "source": [
    "rotm = or2rotm(orc1, orc3)\n",
    "\n",
    "print('The rotation matrix for the Bagaryatskii OR is:\\n' + str(rotm) + '\\n')\n",
    "\n",
    "eul = rotm2eul('ZXZ', rotm)\n",
    "\n",
    "print('The Euler angles (in degrees) for the Bagaryatskii OR is:\\n' + str(eul) + '\\n')"
   ]
  },
  {
   "cell_type": "markdown",
   "id": "d0fc6955",
   "metadata": {},
   "source": [
    "For pearlite homogenization, we can imagine pearlite as a periodically layered composite consisting of ferrite and cementite lamellae. The first step is to use the rotation matrix of the ferrite phase which we just calculated using the Bagaryatskii OR to rotate the stiffness tensor. This is complicated unless we convert the 6x6 Voigt matrix into a 3x3x3x3 4th order tensor, apply the rotation, then convert back to the 6x6 Voigt matrix. We can then rotate the 4th order tensor using the equation\n",
    "\n",
    "$$\n",
    "\\begin{align}\n",
    "C_{mnop} = g_{mi}g_{nj}g_{ok}g_{pl} C_{ijkl}\n",
    "\\end{align}.\n",
    "$$\n"
   ]
  },
  {
   "cell_type": "code",
   "execution_count": 113,
   "id": "97612d60",
   "metadata": {},
   "outputs": [],
   "source": [
    "Voigt_notation = [(0, 0), (1, 1), (2, 2), (1, 2), (0, 2), (0, 1)]\n",
    "\n",
    "def full_3x3_to_Voigt_6_index(i, j):\n",
    "    if i == j:\n",
    "        return i\n",
    "    return 6-i-j\n",
    "\n",
    "\n",
    "def Voigt_6x6_to_full_3x3x3x3(C):\n",
    "    C = np.asarray(C)\n",
    "    C_out = np.zeros((3,3,3,3), dtype=float)\n",
    "    for i, j, k, l in itertools.product(range(3), range(3), range(3), range(3)):\n",
    "        Voigt_i = full_3x3_to_Voigt_6_index(i, j)\n",
    "        Voigt_j = full_3x3_to_Voigt_6_index(k, l)\n",
    "        C_out[i, j, k, l] = C[Voigt_i, Voigt_j]\n",
    "    return C_out\n",
    "\n",
    "\n",
    "def full_3x3x3x3_to_Voigt_6x6(C, tol=1e-3):\n",
    "    C = np.asarray(C)\n",
    "    Voigt = np.zeros((6,6))\n",
    "    for i in range(6):\n",
    "        for j in range(6):\n",
    "            k, l = Voigt_notation[i]\n",
    "            m, n = Voigt_notation[j]\n",
    "            Voigt[i,j] = C[k,l,m,n]\n",
    "    return Voigt\n",
    "\n",
    "\n",
    "def rotate_elastic_constants(C, A, tol=1e-6):\n",
    "    A = np.asarray(A)\n",
    "\n",
    "    # Is this a rotation matrix?\n",
    "    if np.sometrue(np.abs(np.dot(np.array(A), np.transpose(np.array(A))) -\n",
    "                          np.eye(3, dtype=float)) > tol):\n",
    "        raise RuntimeError('Matrix *A* does not describe a rotation.')\n",
    "\n",
    "    # Rotate\n",
    "    return full_3x3x3x3_to_Voigt_6x6(np.einsum('ia,jb,kc,ld,abcd->ijkl',\n",
    "                                               A, A, A, A,\n",
    "                                               Voigt_6x6_to_full_3x3x3x3(C)))"
   ]
  },
  {
   "cell_type": "markdown",
   "id": "c92756cd",
   "metadata": {},
   "source": [
    "Using the ferrite and cementite matricies calculated in the Steel Elastic Properties document, we have the rotated ferrite matrix:"
   ]
  },
  {
   "cell_type": "code",
   "execution_count": 114,
   "id": "7117e7a0",
   "metadata": {},
   "outputs": [
    {
     "name": "stdout",
     "output_type": "stream",
     "text": [
      "[[330.212  90.802 113.312  -7.503  -7.503  15.007]\n",
      " [ 90.802 330.212 113.312  -7.503  -7.503  15.007]\n",
      " [113.312 113.312 307.702  15.007  15.007 -30.014]\n",
      " [ -7.503  -7.503  15.007  89.691 -30.014  -7.503]\n",
      " [ -7.503  -7.503  15.007 -30.014  89.691  -7.503]\n",
      " [ 15.007  15.007 -30.014  -7.503  -7.503  67.181]]\n"
     ]
    }
   ],
   "source": [
    "FER_0K = np.array([[247.675,143.326,143.326,      0,      0,      0],\n",
    "                   [143.326,247.675,143.326,      0,      0,      0],\n",
    "                   [143.326,143.326,247.675,      0,      0,      0],\n",
    "                   [      0,      0,      0,119.705,      0,      0],\n",
    "                   [      0,      0,      0,      0,119.705,      0],\n",
    "                   [      0,      0,      0,      0,      0,119.705]])\n",
    "\n",
    "CEM_0K = np.array([[380.000,170.625,164.625,      0,      0,      0],\n",
    "                   [170.625,347.500,159.000,      0,      0,      0],\n",
    "                   [164.625,159.000,336.875,      0,      0,      0],\n",
    "                   [      0,      0,      0,20.8750,      0,      0],\n",
    "                   [      0,      0,      0,      0,130.500,      0],\n",
    "                   [      0,      0,      0,      0,      0,118.750]])\n",
    "\n",
    "FER_0K_ROT = rotate_elastic_constants(FER_0K, g)\n",
    "\n",
    "print(FER_0K_ROT.round(3))\n"
   ]
  },
  {
   "cell_type": "markdown",
   "id": "9faa898b",
   "metadata": {},
   "source": [
    "Under the assumption of Voigt, we can find the homogenized pearlite stiffness tensor by taking a weighted average of each of the tenor components. "
   ]
  },
  {
   "cell_type": "code",
   "execution_count": 115,
   "id": "9c85107f",
   "metadata": {},
   "outputs": [
    {
     "name": "stdout",
     "output_type": "stream",
     "text": [
      "[[337.68  102.776 121.009  -6.378  -6.378  12.756]\n",
      " [102.776 332.805 120.166  -6.378  -6.378  12.756]\n",
      " [121.009 120.166 312.078  12.756  12.756 -25.512]\n",
      " [ -6.378  -6.378  12.756  79.369 -25.512  -6.378]\n",
      " [ -6.378  -6.378  12.756 -25.512  95.813  -6.378]\n",
      " [ 12.756  12.756 -25.512  -6.378  -6.378  74.917]]\n"
     ]
    }
   ],
   "source": [
    "f_FER = 0.85\n",
    "f_CEM = 1.0 - f_FER\n",
    "\n",
    "homog_voigt = np.zeros((6,6))\n",
    "\n",
    "for i in range(0,6):\n",
    "    for j in range(0,6):\n",
    "        homog_voigt[i,j] = f_FER*FER_0K_ROT[i,j] + f_CEM*CEM_0K[i,j]\n",
    "        \n",
    "print(homog_voigt.round(3))"
   ]
  },
  {
   "cell_type": "markdown",
   "id": "75ebf7ab",
   "metadata": {},
   "source": [
    "More complex mixing models can be found in the work of Dr. Wenbin Yu (https://www.sciencedirect.com/science/article/pii/S0020768306004264), as well as models which consider interfacial properties, which are almost certainly necessary for lamellar structures on the nano-scale (https://www.sciencedirect.com/science/article/pii/S0263822316309837?casa_token=wr-0plXUxPEAAAAA:2OCmn0No-AVtH-Yqey7SL0WpXDqxvy86CZNUuRk9RUdCUb5PuEbpGUWIoDqN-xKSPRy383nvcg)"
   ]
  },
  {
   "cell_type": "code",
   "execution_count": null,
   "id": "063124c1",
   "metadata": {},
   "outputs": [],
   "source": []
  }
 ],
 "metadata": {
  "kernelspec": {
   "display_name": "Python 3 (ipykernel)",
   "language": "python",
   "name": "python3"
  },
  "language_info": {
   "codemirror_mode": {
    "name": "ipython",
    "version": 3
   },
   "file_extension": ".py",
   "mimetype": "text/x-python",
   "name": "python",
   "nbconvert_exporter": "python",
   "pygments_lexer": "ipython3",
   "version": "3.8.12"
  }
 },
 "nbformat": 4,
 "nbformat_minor": 5
}
